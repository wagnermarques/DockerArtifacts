{
 "cells": [
  {
   "cell_type": "markdown",
   "id": "1dbeb6b4-4a3e-46f6-8e41-bd271f85b5a0",
   "metadata": {},
   "source": [
    "\n"
   ]
  },
  {
   "cell_type": "code",
   "execution_count": 2,
   "id": "49d88199-87a1-4222-8b68-852bcba89f08",
   "metadata": {},
   "outputs": [
    {
     "name": "stdout",
     "output_type": "stream",
     "text": [
      "Atenção: O número de nomes antigos, (21),  é diferente do número de nomes novos (22).\n",
      "Por favor, verifique as listas.\n"
     ]
    },
    {
     "ename": "NameError",
     "evalue": "name 'df' is not defined",
     "output_type": "error",
     "traceback": [
      "\u001b[0;31m---------------------------------------------------------------------------\u001b[0m",
      "\u001b[0;31mNameError\u001b[0m                                 Traceback (most recent call last)",
      "Cell \u001b[0;32mIn[2], line 61\u001b[0m\n\u001b[1;32m     58\u001b[0m \u001b[38;5;28;01melse\u001b[39;00m:\n\u001b[1;32m     59\u001b[0m     dicionario_renomear \u001b[38;5;241m=\u001b[39m \u001b[38;5;28mdict\u001b[39m(\u001b[38;5;28mzip\u001b[39m(nomes_antigos, nomes_novos))\n\u001b[0;32m---> 61\u001b[0m \u001b[43mdf\u001b[49m\u001b[38;5;241m.\u001b[39mrename(columns\u001b[38;5;241m=\u001b[39mdicionario_renomear, inplace\u001b[38;5;241m=\u001b[39m\u001b[38;5;28;01mTrue\u001b[39;00m)\n\u001b[1;32m     63\u001b[0m df\u001b[38;5;241m.\u001b[39mcolumns\n",
      "\u001b[0;31mNameError\u001b[0m: name 'df' is not defined"
     ]
    }
   ],
   "source": [
    "import pandas as pd\n",
    "\n",
    "def df_cols_rename(df, list_nomes_antigos, list_nome_novos):\n",
    "    # Verificar se o número de colunas antigas e novas é o mesmo\n",
    "    if len(nomes_antigos) != len(nomes_novos):\n",
    "        print(f\"Atenção: O número de nomes antigos, ({len(nomes_antigos)}),  é diferente do número de nomes novos ({len(nomes_novos)}).\")\n",
    "        print(\"Por favor, verifique as listas.\")\n",
    "    else:\n",
    "        dicionario_renomear = dict(zip(nomes_antigos, nomes_novos))\n",
    "    df.rename(columns=dicionario_renomear, inplace=True)\n",
    "    df.columns"
   ]
  }
 ],
 "metadata": {
  "kernelspec": {
   "display_name": "Python 3 (ipykernel)",
   "language": "python",
   "name": "python3"
  },
  "language_info": {
   "codemirror_mode": {
    "name": "ipython",
    "version": 3
   },
   "file_extension": ".py",
   "mimetype": "text/x-python",
   "name": "python",
   "nbconvert_exporter": "python",
   "pygments_lexer": "ipython3",
   "version": "3.11.6"
  }
 },
 "nbformat": 4,
 "nbformat_minor": 5
}
