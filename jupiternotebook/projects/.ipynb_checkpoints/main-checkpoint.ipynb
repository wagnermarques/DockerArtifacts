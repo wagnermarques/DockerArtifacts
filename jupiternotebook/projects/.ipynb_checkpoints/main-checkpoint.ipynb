{
 "cells": [
  {
   "cell_type": "markdown",
   "id": "cd5f283b-fe10-4c1d-8b31-613da85e9313",
   "metadata": {},
   "source": [
    "# Análise descritiva"
   ]
  },
  {
   "cell_type": "code",
   "execution_count": 43,
   "id": "50bc9f8a-c16d-4639-aa97-95483277770e",
   "metadata": {},
   "outputs": [],
   "source": [
    "%run descriptive_functions.ipynb\n",
    "%run df_functions.ipynb\n",
    "%run plotly.ipynb"
   ]
  },
  {
   "cell_type": "code",
   "execution_count": 3,
   "id": "ace024cc-c91b-4841-a0c9-827561f86632",
   "metadata": {
    "scrolled": true
   },
   "outputs": [
    {
     "data": {
      "text/html": [
       "<div>\n",
       "<style scoped>\n",
       "    .dataframe tbody tr th:only-of-type {\n",
       "        vertical-align: middle;\n",
       "    }\n",
       "\n",
       "    .dataframe tbody tr th {\n",
       "        vertical-align: top;\n",
       "    }\n",
       "\n",
       "    .dataframe thead th {\n",
       "        text-align: right;\n",
       "    }\n",
       "</style>\n",
       "<table border=\"1\" class=\"dataframe\">\n",
       "  <thead>\n",
       "    <tr style=\"text-align: right;\">\n",
       "      <th></th>\n",
       "      <th>Nome</th>\n",
       "      <th>E-mail</th>\n",
       "      <th>Status da resposta</th>\n",
       "      <th>Data da resposta</th>\n",
       "      <th>Comentários e Sugestões para a organização do evento</th>\n",
       "      <th>Comentários e Sugestões para o sistema utilizado</th>\n",
       "      <th>Quanto à aplicabilidade do conteúdo ministrado?</th>\n",
       "      <th>Quanto à Facilidade de acesso?</th>\n",
       "      <th>Quanto à Limpeza das instalações?</th>\n",
       "      <th>Quanto à Obtenção de Certificados?</th>\n",
       "      <th>...</th>\n",
       "      <th>Quanto à recepção e ao credenciamento?</th>\n",
       "      <th>Quanto à Sinalização do local?</th>\n",
       "      <th>Quanto à Submissão de Trabalhos?</th>\n",
       "      <th>Quanto ao atendimento pré-evento?</th>\n",
       "      <th>Quanto ao conteúdo e temas abordados?</th>\n",
       "      <th>Quanto ao desempenho dos palestrantes?</th>\n",
       "      <th>Quanto ao material de Apoio (pastas, crachás)?</th>\n",
       "      <th>Quanto aos horários (pontualidade, distr. tempo)?</th>\n",
       "      <th>Quanto às Inscrições nas Atividades?</th>\n",
       "      <th>Quanto às Inscrições online?</th>\n",
       "    </tr>\n",
       "  </thead>\n",
       "  <tbody>\n",
       "    <tr>\n",
       "      <th>0</th>\n",
       "      <td>Renata Da  Silva Rocha</td>\n",
       "      <td>rocharenata673@gmail.com</td>\n",
       "      <td>Não respondido</td>\n",
       "      <td>NaN</td>\n",
       "      <td>NaN</td>\n",
       "      <td>NaN</td>\n",
       "      <td>NaN</td>\n",
       "      <td>NaN</td>\n",
       "      <td>NaN</td>\n",
       "      <td>NaN</td>\n",
       "      <td>...</td>\n",
       "      <td>NaN</td>\n",
       "      <td>NaN</td>\n",
       "      <td>NaN</td>\n",
       "      <td>NaN</td>\n",
       "      <td>NaN</td>\n",
       "      <td>NaN</td>\n",
       "      <td>NaN</td>\n",
       "      <td>NaN</td>\n",
       "      <td>NaN</td>\n",
       "      <td>NaN</td>\n",
       "    </tr>\n",
       "    <tr>\n",
       "      <th>1</th>\n",
       "      <td>Edmara Santos Gomes</td>\n",
       "      <td>edmara.gomes@unesp.br</td>\n",
       "      <td>Respondido</td>\n",
       "      <td>17-05-2025</td>\n",
       "      <td>NaN</td>\n",
       "      <td>NaN</td>\n",
       "      <td>Ótimo</td>\n",
       "      <td>Ótimo</td>\n",
       "      <td>Ótimo</td>\n",
       "      <td>Ótimo</td>\n",
       "      <td>...</td>\n",
       "      <td>Ótimo</td>\n",
       "      <td>Ótimo</td>\n",
       "      <td>Ótimo</td>\n",
       "      <td>Ótimo</td>\n",
       "      <td>Ótimo</td>\n",
       "      <td>Ótimo</td>\n",
       "      <td>Ótimo</td>\n",
       "      <td>Ótimo</td>\n",
       "      <td>Ótimo</td>\n",
       "      <td>Ótimo</td>\n",
       "    </tr>\n",
       "    <tr>\n",
       "      <th>2</th>\n",
       "      <td>Adriano de Souza Reis</td>\n",
       "      <td>souza.reis@unesp.br</td>\n",
       "      <td>Não respondido</td>\n",
       "      <td>NaN</td>\n",
       "      <td>NaN</td>\n",
       "      <td>NaN</td>\n",
       "      <td>NaN</td>\n",
       "      <td>NaN</td>\n",
       "      <td>NaN</td>\n",
       "      <td>NaN</td>\n",
       "      <td>...</td>\n",
       "      <td>NaN</td>\n",
       "      <td>NaN</td>\n",
       "      <td>NaN</td>\n",
       "      <td>NaN</td>\n",
       "      <td>NaN</td>\n",
       "      <td>NaN</td>\n",
       "      <td>NaN</td>\n",
       "      <td>NaN</td>\n",
       "      <td>NaN</td>\n",
       "      <td>NaN</td>\n",
       "    </tr>\n",
       "    <tr>\n",
       "      <th>3</th>\n",
       "      <td>Ticiana Andrea SILVA</td>\n",
       "      <td>ticiana.silva@unesp.br</td>\n",
       "      <td>Não respondido</td>\n",
       "      <td>NaN</td>\n",
       "      <td>NaN</td>\n",
       "      <td>NaN</td>\n",
       "      <td>NaN</td>\n",
       "      <td>NaN</td>\n",
       "      <td>NaN</td>\n",
       "      <td>NaN</td>\n",
       "      <td>...</td>\n",
       "      <td>NaN</td>\n",
       "      <td>NaN</td>\n",
       "      <td>NaN</td>\n",
       "      <td>NaN</td>\n",
       "      <td>NaN</td>\n",
       "      <td>NaN</td>\n",
       "      <td>NaN</td>\n",
       "      <td>NaN</td>\n",
       "      <td>NaN</td>\n",
       "      <td>NaN</td>\n",
       "    </tr>\n",
       "    <tr>\n",
       "      <th>4</th>\n",
       "      <td>PRISCILA APARECIDA PAIVA DE CARVALHO</td>\n",
       "      <td>priscilaaparecidacarvalho901@gmail.com</td>\n",
       "      <td>Não respondido</td>\n",
       "      <td>NaN</td>\n",
       "      <td>NaN</td>\n",
       "      <td>NaN</td>\n",
       "      <td>NaN</td>\n",
       "      <td>NaN</td>\n",
       "      <td>NaN</td>\n",
       "      <td>NaN</td>\n",
       "      <td>...</td>\n",
       "      <td>NaN</td>\n",
       "      <td>NaN</td>\n",
       "      <td>NaN</td>\n",
       "      <td>NaN</td>\n",
       "      <td>NaN</td>\n",
       "      <td>NaN</td>\n",
       "      <td>NaN</td>\n",
       "      <td>NaN</td>\n",
       "      <td>NaN</td>\n",
       "      <td>NaN</td>\n",
       "    </tr>\n",
       "  </tbody>\n",
       "</table>\n",
       "<p>5 rows × 21 columns</p>\n",
       "</div>"
      ],
      "text/plain": [
       "                                   Nome  \\\n",
       "0                Renata Da  Silva Rocha   \n",
       "1                   Edmara Santos Gomes   \n",
       "2                 Adriano de Souza Reis   \n",
       "3                  Ticiana Andrea SILVA   \n",
       "4  PRISCILA APARECIDA PAIVA DE CARVALHO   \n",
       "\n",
       "                                   E-mail Status da resposta Data da resposta  \\\n",
       "0                rocharenata673@gmail.com     Não respondido              NaN   \n",
       "1                   edmara.gomes@unesp.br         Respondido       17-05-2025   \n",
       "2                     souza.reis@unesp.br     Não respondido              NaN   \n",
       "3                  ticiana.silva@unesp.br     Não respondido              NaN   \n",
       "4  priscilaaparecidacarvalho901@gmail.com     Não respondido              NaN   \n",
       "\n",
       "  Comentários e Sugestões para a organização do evento  \\\n",
       "0                                                NaN     \n",
       "1                                                NaN     \n",
       "2                                                NaN     \n",
       "3                                                NaN     \n",
       "4                                                NaN     \n",
       "\n",
       "  Comentários e Sugestões para o sistema utilizado  \\\n",
       "0                                              NaN   \n",
       "1                                              NaN   \n",
       "2                                              NaN   \n",
       "3                                              NaN   \n",
       "4                                              NaN   \n",
       "\n",
       "  Quanto à aplicabilidade do conteúdo ministrado?  \\\n",
       "0                                             NaN   \n",
       "1                                           Ótimo   \n",
       "2                                             NaN   \n",
       "3                                             NaN   \n",
       "4                                             NaN   \n",
       "\n",
       "  Quanto à Facilidade de acesso? Quanto à Limpeza das instalações?  \\\n",
       "0                            NaN                               NaN   \n",
       "1                          Ótimo                             Ótimo   \n",
       "2                            NaN                               NaN   \n",
       "3                            NaN                               NaN   \n",
       "4                            NaN                               NaN   \n",
       "\n",
       "  Quanto à Obtenção de Certificados?  ...  \\\n",
       "0                                NaN  ...   \n",
       "1                              Ótimo  ...   \n",
       "2                                NaN  ...   \n",
       "3                                NaN  ...   \n",
       "4                                NaN  ...   \n",
       "\n",
       "  Quanto à recepção e ao credenciamento? Quanto à Sinalização do local?  \\\n",
       "0                                    NaN                            NaN   \n",
       "1                                  Ótimo                          Ótimo   \n",
       "2                                    NaN                            NaN   \n",
       "3                                    NaN                            NaN   \n",
       "4                                    NaN                            NaN   \n",
       "\n",
       "  Quanto à Submissão de Trabalhos? Quanto ao atendimento pré-evento?  \\\n",
       "0                              NaN                               NaN   \n",
       "1                            Ótimo                             Ótimo   \n",
       "2                              NaN                               NaN   \n",
       "3                              NaN                               NaN   \n",
       "4                              NaN                               NaN   \n",
       "\n",
       "  Quanto ao conteúdo e temas abordados?  \\\n",
       "0                                   NaN   \n",
       "1                                 Ótimo   \n",
       "2                                   NaN   \n",
       "3                                   NaN   \n",
       "4                                   NaN   \n",
       "\n",
       "  Quanto ao desempenho dos palestrantes?  \\\n",
       "0                                    NaN   \n",
       "1                                  Ótimo   \n",
       "2                                    NaN   \n",
       "3                                    NaN   \n",
       "4                                    NaN   \n",
       "\n",
       "  Quanto ao material de Apoio (pastas, crachás)?  \\\n",
       "0                                            NaN   \n",
       "1                                          Ótimo   \n",
       "2                                            NaN   \n",
       "3                                            NaN   \n",
       "4                                            NaN   \n",
       "\n",
       "  Quanto aos horários (pontualidade, distr. tempo)?  \\\n",
       "0                                               NaN   \n",
       "1                                             Ótimo   \n",
       "2                                               NaN   \n",
       "3                                               NaN   \n",
       "4                                               NaN   \n",
       "\n",
       "  Quanto às Inscrições nas Atividades? Quanto às Inscrições online?  \n",
       "0                                  NaN                          NaN  \n",
       "1                                Ótimo                        Ótimo  \n",
       "2                                  NaN                          NaN  \n",
       "3                                  NaN                          NaN  \n",
       "4                                  NaN                          NaN  \n",
       "\n",
       "[5 rows x 21 columns]"
      ]
     },
     "execution_count": 3,
     "metadata": {},
     "output_type": "execute_result"
    }
   ],
   "source": [
    "import pandas as pd\n",
    "df = pd.read_excel('dados-27-05-2025_14-11-32.xlsx')\n",
    "df.head()"
   ]
  },
  {
   "cell_type": "markdown",
   "id": "90880643-484f-4b1f-ae91-cc6bea542fb1",
   "metadata": {},
   "source": [
    "# melhorando nome das colunas"
   ]
  },
  {
   "cell_type": "code",
   "execution_count": 24,
   "id": "413236b2-22fe-4ab0-a85f-702e171122ee",
   "metadata": {},
   "outputs": [
    {
     "data": {
      "text/plain": [
       "Index(['nome', 'email', 'statusresposta', 'data_resposta', 'sugestoes_evento',\n",
       "       'sugestoes_sistema', 'aplicabilidade_do_conteudo',\n",
       "       'facilidade_de_acesso', 'limpeza', 'obtencao_certificados',\n",
       "       'qualidade_dos_trabalhos', 'credenciamento', 'sinalizacao_do_local',\n",
       "       'submissao_de_trabalhos', 'atendimento_pre_evento',\n",
       "       'conteudo_e_temas_abordados', 'desempenho_palestrantes',\n",
       "       'material_de_apoio', 'horarios_pontualidade', 'incricoes',\n",
       "       'incricoes_online'],\n",
       "      dtype='object')"
      ]
     },
     "execution_count": 24,
     "metadata": {},
     "output_type": "execute_result"
    }
   ],
   "source": [
    "# Nomes antigos das colunas (conforme o seu Index)\n",
    "nomes_antigos = [\n",
    "    'Nome',\n",
    "    'E-mail',\n",
    "    'Status da resposta',\n",
    "    'Data da resposta',\n",
    "    'Comentários e Sugestões para a organização do evento',\n",
    "    'Comentários e Sugestões para o sistema utilizado',\n",
    "    'Quanto à aplicabilidade do conteúdo ministrado?',\n",
    "    'Quanto à Facilidade de acesso?',\n",
    "    'Quanto à Limpeza das instalações?',\n",
    "    'Quanto à Obtenção de Certificados?',\n",
    "    'Quanto à qualidade dos trabalhos?',\n",
    "    'Quanto à recepção e ao credenciamento?',\n",
    "    'Quanto à Sinalização do local?',\n",
    "    'Quanto à Submissão de Trabalhos?',\n",
    "    'Quanto ao atendimento pré-evento?',\n",
    "    'Quanto ao conteúdo e temas abordados?',\n",
    "    'Quanto ao desempenho dos palestrantes?',\n",
    "    'Quanto ao material de Apoio (pastas, crachás)?',\n",
    "    'Quanto aos horários (pontualidade, distr. tempo)?',\n",
    "    'Quanto às Inscrições nas Atividades?',\n",
    "    'Quanto às Inscrições online?'\n",
    "]\n",
    "\n",
    "# Novos nomes (conforme as chaves do seu dicionário)\n",
    "nomes_novos = [\n",
    "    'nome',\n",
    "    'email',\n",
    "    'statusresposta', #'Status da resposta',\n",
    "    'data_resposta', #'Data da resposta',\n",
    "    'sugestoes_evento', #'Comentários e Sugestões para a organização do evento',\n",
    "    'sugestoes_sistema', #Comentários e Sugestões para o sistema utilizado,\n",
    "    'aplicabilidade_do_conteudo', #Quanto à aplicabilidade do conteúdo ministrado?',\n",
    "    'facilidade_de_acesso', #'Quanto à Facilidade de acesso?',\n",
    "    'limpeza', #'Quanto à Limpeza das instalações?',\n",
    "    'obtencao_certificados', #'Quanto à Obtenção de Certificados?',\n",
    "    'qualidade_dos_trabalhos', #'Quanto à qualidade dos trabalhos?',\n",
    "    'credenciamento', #'Quanto à recepção e ao credenciamento?',\n",
    "    'sinalizacao_do_local', #'Quanto à Sinalização do local?',\n",
    "    'submissao_de_trabalhos', #'Quanto à Submissão de Trabalhos?',\n",
    "    'atendimento_pre_evento', #'Quanto ao atendimento pré-evento?',\n",
    "    'conteudo_e_temas_abordados', #'Quanto ao conteúdo e temas abordados?',\n",
    "    'desempenho_palestrantes', #'Quanto ao desempenho dos palestrantes?',\n",
    "    'material_de_apoio', #'Quanto ao material de Apoio (pastas, crachás)?',\n",
    "    'horarios_pontualidade', #'Quanto aos horários (pontualidade, distr. tempo)?',\n",
    "    'incricoes', #'Quanto às Inscrições nas Atividades?',\n",
    "    'incricoes_online' #'Quanto às Inscrições online?'       \n",
    "]\n",
    "\n",
    "df_cols_rename(df, nomes_antigos, nomes_novos)\n",
    "df.columns"
   ]
  },
  {
   "cell_type": "markdown",
   "id": "b632b41e-75d4-4c95-a9bc-7483a8261b82",
   "metadata": {},
   "source": [
    "# Status das respostas"
   ]
  },
  {
   "cell_type": "code",
   "execution_count": 5,
   "id": "97504ed5-4549-4f12-81c8-6e9da7ab15ac",
   "metadata": {
    "scrolled": true
   },
   "outputs": [
    {
     "name": "stdout",
     "output_type": "stream",
     "text": [
      "\n",
      "Status da Resposta\n",
      "+----------------+--------------+-------------------+-----------------------------+\n",
      "|                |  Frequência  |  Porcentagem (%)  |  Porcentagem Acumulada (%)  |\n",
      "+================+==============+===================+=============================+\n",
      "| Não respondido |     116      |      63.74%       |           63.74%            |\n",
      "+----------------+--------------+-------------------+-----------------------------+\n",
      "|   Respondido   |      66      |      36.26%       |           100.0%            |\n",
      "+----------------+--------------+-------------------+-----------------------------+\n",
      "|     Total      |     182      |      100.00%      |           100.00%           |\n",
      "+----------------+--------------+-------------------+-----------------------------+\n",
      "------------------------------------------------------------\n"
     ]
    },
    {
     "data": {
      "text/html": [
       "<div>\n",
       "<style scoped>\n",
       "    .dataframe tbody tr th:only-of-type {\n",
       "        vertical-align: middle;\n",
       "    }\n",
       "\n",
       "    .dataframe tbody tr th {\n",
       "        vertical-align: top;\n",
       "    }\n",
       "\n",
       "    .dataframe thead th {\n",
       "        text-align: right;\n",
       "    }\n",
       "</style>\n",
       "<table border=\"1\" class=\"dataframe\">\n",
       "  <thead>\n",
       "    <tr style=\"text-align: right;\">\n",
       "      <th></th>\n",
       "      <th>Frequência</th>\n",
       "      <th>Porcentagem (%)</th>\n",
       "      <th>Porcentagem Acumulada (%)</th>\n",
       "    </tr>\n",
       "    <tr>\n",
       "      <th></th>\n",
       "      <th></th>\n",
       "      <th></th>\n",
       "      <th></th>\n",
       "    </tr>\n",
       "  </thead>\n",
       "  <tbody>\n",
       "    <tr>\n",
       "      <th>Não respondido</th>\n",
       "      <td>116</td>\n",
       "      <td>63.74%</td>\n",
       "      <td>63.74%</td>\n",
       "    </tr>\n",
       "    <tr>\n",
       "      <th>Respondido</th>\n",
       "      <td>66</td>\n",
       "      <td>36.26%</td>\n",
       "      <td>100.0%</td>\n",
       "    </tr>\n",
       "    <tr>\n",
       "      <th>Total</th>\n",
       "      <td>182</td>\n",
       "      <td>100.00%</td>\n",
       "      <td>100.00%</td>\n",
       "    </tr>\n",
       "  </tbody>\n",
       "</table>\n",
       "</div>"
      ],
      "text/plain": [
       "                Frequência Porcentagem (%) Porcentagem Acumulada (%)\n",
       "                                                                    \n",
       "Não respondido         116          63.74%                    63.74%\n",
       "Respondido              66          36.26%                    100.0%\n",
       "Total                  182         100.00%                   100.00%"
      ]
     },
     "execution_count": 5,
     "metadata": {},
     "output_type": "execute_result"
    }
   ],
   "source": [
    "freqTbl(df, 'statusresposta', \"Status da Resposta\", nome_indice=\"\", salvar_imagem=False, nome_arquivo=None)"
   ]
  },
  {
   "cell_type": "code",
   "execution_count": 18,
   "id": "30219e94-a2af-4846-a5c5-a56072c31b7e",
   "metadata": {},
   "outputs": [
    {
     "data": {
      "text/html": [
       "<div>\n",
       "<style scoped>\n",
       "    .dataframe tbody tr th:only-of-type {\n",
       "        vertical-align: middle;\n",
       "    }\n",
       "\n",
       "    .dataframe tbody tr th {\n",
       "        vertical-align: top;\n",
       "    }\n",
       "\n",
       "    .dataframe thead th {\n",
       "        text-align: right;\n",
       "    }\n",
       "</style>\n",
       "<table border=\"1\" class=\"dataframe\">\n",
       "  <thead>\n",
       "    <tr style=\"text-align: right;\">\n",
       "      <th></th>\n",
       "      <th>statusresposta</th>\n",
       "      <th>count</th>\n",
       "    </tr>\n",
       "  </thead>\n",
       "  <tbody>\n",
       "    <tr>\n",
       "      <th>0</th>\n",
       "      <td>Não respondido</td>\n",
       "      <td>116</td>\n",
       "    </tr>\n",
       "    <tr>\n",
       "      <th>1</th>\n",
       "      <td>Respondido</td>\n",
       "      <td>66</td>\n",
       "    </tr>\n",
       "  </tbody>\n",
       "</table>\n",
       "</div>"
      ],
      "text/plain": [
       "   statusresposta  count\n",
       "0  Não respondido    116\n",
       "1      Respondido     66"
      ]
     },
     "execution_count": 18,
     "metadata": {},
     "output_type": "execute_result"
    }
   ],
   "source": [
    "df['statusresposta'].value_counts().reset_index()"
   ]
  },
  {
   "cell_type": "code",
   "execution_count": 36,
   "id": "02b3210e-0ea1-487c-907f-9271640d9ead",
   "metadata": {},
   "outputs": [
    {
     "data": {
      "text/html": [
       "<div>\n",
       "<style scoped>\n",
       "    .dataframe tbody tr th:only-of-type {\n",
       "        vertical-align: middle;\n",
       "    }\n",
       "\n",
       "    .dataframe tbody tr th {\n",
       "        vertical-align: top;\n",
       "    }\n",
       "\n",
       "    .dataframe thead th {\n",
       "        text-align: right;\n",
       "    }\n",
       "</style>\n",
       "<table border=\"1\" class=\"dataframe\">\n",
       "  <thead>\n",
       "    <tr style=\"text-align: right;\">\n",
       "      <th></th>\n",
       "      <th>Estatus</th>\n",
       "      <th>n</th>\n",
       "      <th>perc</th>\n",
       "    </tr>\n",
       "  </thead>\n",
       "  <tbody>\n",
       "    <tr>\n",
       "      <th>0</th>\n",
       "      <td>Não respondido</td>\n",
       "      <td>116</td>\n",
       "      <td>63.74</td>\n",
       "    </tr>\n",
       "    <tr>\n",
       "      <th>1</th>\n",
       "      <td>Respondido</td>\n",
       "      <td>66</td>\n",
       "      <td>36.26</td>\n",
       "    </tr>\n",
       "  </tbody>\n",
       "</table>\n",
       "</div>"
      ],
      "text/plain": [
       "          Estatus    n   perc\n",
       "0  Não respondido  116  63.74\n",
       "1      Respondido   66  36.26"
      ]
     },
     "execution_count": 36,
     "metadata": {},
     "output_type": "execute_result"
    }
   ],
   "source": [
    "prepDf = prepare_data_get_tblfreq(\n",
    "    p_df=df,\n",
    "    p_colname=\"statusresposta\",\n",
    "    p_valuecounts_labels = [\"Estatus\",\"n\"])\n",
    "prepDf"
   ]
  },
  {
   "cell_type": "code",
   "execution_count": 42,
   "id": "42908862-c341-49e2-a510-c485232f134c",
   "metadata": {},
   "outputs": [
    {
     "data": {
      "application/vnd.plotly.v1+json": {
       "config": {
        "plotlyServerURL": "https://plot.ly"
       },
       "data": [
        {
         "hovertemplate": "tata=%{x}<br>CCCCC=%{y}<extra></extra>",
         "legendgroup": "",
         "marker": {
          "color": "#636efa",
          "pattern": {
           "shape": ""
          }
         },
         "name": "",
         "orientation": "v",
         "showlegend": false,
         "textposition": "auto",
         "type": "bar",
         "x": [
          "Não respondido",
          "Respondido"
         ],
         "xaxis": "x",
         "y": {
          "_inputArray": {
           "0": 116,
           "1": 66,
           "bdata": "dEI=",
           "dtype": "i1",
           "shape": "2"
          },
          "bdata": "dEI=",
          "dtype": "i1"
         },
         "yaxis": "y"
        }
       ],
       "layout": {
        "autosize": true,
        "barmode": "relative",
        "legend": {
         "tracegroupgap": 0
        },
        "template": {
         "data": {
          "bar": [
           {
            "error_x": {
             "color": "#2a3f5f"
            },
            "error_y": {
             "color": "#2a3f5f"
            },
            "marker": {
             "line": {
              "color": "#E5ECF6",
              "width": 0.5
             },
             "pattern": {
              "fillmode": "overlay",
              "size": 10,
              "solidity": 0.2
             }
            },
            "type": "bar"
           }
          ],
          "barpolar": [
           {
            "marker": {
             "line": {
              "color": "#E5ECF6",
              "width": 0.5
             },
             "pattern": {
              "fillmode": "overlay",
              "size": 10,
              "solidity": 0.2
             }
            },
            "type": "barpolar"
           }
          ],
          "carpet": [
           {
            "aaxis": {
             "endlinecolor": "#2a3f5f",
             "gridcolor": "white",
             "linecolor": "white",
             "minorgridcolor": "white",
             "startlinecolor": "#2a3f5f"
            },
            "baxis": {
             "endlinecolor": "#2a3f5f",
             "gridcolor": "white",
             "linecolor": "white",
             "minorgridcolor": "white",
             "startlinecolor": "#2a3f5f"
            },
            "type": "carpet"
           }
          ],
          "choropleth": [
           {
            "colorbar": {
             "outlinewidth": 0,
             "ticks": ""
            },
            "type": "choropleth"
           }
          ],
          "contour": [
           {
            "colorbar": {
             "outlinewidth": 0,
             "ticks": ""
            },
            "colorscale": [
             [
              0,
              "#0d0887"
             ],
             [
              0.1111111111111111,
              "#46039f"
             ],
             [
              0.2222222222222222,
              "#7201a8"
             ],
             [
              0.3333333333333333,
              "#9c179e"
             ],
             [
              0.4444444444444444,
              "#bd3786"
             ],
             [
              0.5555555555555556,
              "#d8576b"
             ],
             [
              0.6666666666666666,
              "#ed7953"
             ],
             [
              0.7777777777777778,
              "#fb9f3a"
             ],
             [
              0.8888888888888888,
              "#fdca26"
             ],
             [
              1,
              "#f0f921"
             ]
            ],
            "type": "contour"
           }
          ],
          "contourcarpet": [
           {
            "colorbar": {
             "outlinewidth": 0,
             "ticks": ""
            },
            "type": "contourcarpet"
           }
          ],
          "heatmap": [
           {
            "colorbar": {
             "outlinewidth": 0,
             "ticks": ""
            },
            "colorscale": [
             [
              0,
              "#0d0887"
             ],
             [
              0.1111111111111111,
              "#46039f"
             ],
             [
              0.2222222222222222,
              "#7201a8"
             ],
             [
              0.3333333333333333,
              "#9c179e"
             ],
             [
              0.4444444444444444,
              "#bd3786"
             ],
             [
              0.5555555555555556,
              "#d8576b"
             ],
             [
              0.6666666666666666,
              "#ed7953"
             ],
             [
              0.7777777777777778,
              "#fb9f3a"
             ],
             [
              0.8888888888888888,
              "#fdca26"
             ],
             [
              1,
              "#f0f921"
             ]
            ],
            "type": "heatmap"
           }
          ],
          "histogram": [
           {
            "marker": {
             "pattern": {
              "fillmode": "overlay",
              "size": 10,
              "solidity": 0.2
             }
            },
            "type": "histogram"
           }
          ],
          "histogram2d": [
           {
            "colorbar": {
             "outlinewidth": 0,
             "ticks": ""
            },
            "colorscale": [
             [
              0,
              "#0d0887"
             ],
             [
              0.1111111111111111,
              "#46039f"
             ],
             [
              0.2222222222222222,
              "#7201a8"
             ],
             [
              0.3333333333333333,
              "#9c179e"
             ],
             [
              0.4444444444444444,
              "#bd3786"
             ],
             [
              0.5555555555555556,
              "#d8576b"
             ],
             [
              0.6666666666666666,
              "#ed7953"
             ],
             [
              0.7777777777777778,
              "#fb9f3a"
             ],
             [
              0.8888888888888888,
              "#fdca26"
             ],
             [
              1,
              "#f0f921"
             ]
            ],
            "type": "histogram2d"
           }
          ],
          "histogram2dcontour": [
           {
            "colorbar": {
             "outlinewidth": 0,
             "ticks": ""
            },
            "colorscale": [
             [
              0,
              "#0d0887"
             ],
             [
              0.1111111111111111,
              "#46039f"
             ],
             [
              0.2222222222222222,
              "#7201a8"
             ],
             [
              0.3333333333333333,
              "#9c179e"
             ],
             [
              0.4444444444444444,
              "#bd3786"
             ],
             [
              0.5555555555555556,
              "#d8576b"
             ],
             [
              0.6666666666666666,
              "#ed7953"
             ],
             [
              0.7777777777777778,
              "#fb9f3a"
             ],
             [
              0.8888888888888888,
              "#fdca26"
             ],
             [
              1,
              "#f0f921"
             ]
            ],
            "type": "histogram2dcontour"
           }
          ],
          "mesh3d": [
           {
            "colorbar": {
             "outlinewidth": 0,
             "ticks": ""
            },
            "type": "mesh3d"
           }
          ],
          "parcoords": [
           {
            "line": {
             "colorbar": {
              "outlinewidth": 0,
              "ticks": ""
             }
            },
            "type": "parcoords"
           }
          ],
          "pie": [
           {
            "automargin": true,
            "type": "pie"
           }
          ],
          "scatter": [
           {
            "fillpattern": {
             "fillmode": "overlay",
             "size": 10,
             "solidity": 0.2
            },
            "type": "scatter"
           }
          ],
          "scatter3d": [
           {
            "line": {
             "colorbar": {
              "outlinewidth": 0,
              "ticks": ""
             }
            },
            "marker": {
             "colorbar": {
              "outlinewidth": 0,
              "ticks": ""
             }
            },
            "type": "scatter3d"
           }
          ],
          "scattercarpet": [
           {
            "marker": {
             "colorbar": {
              "outlinewidth": 0,
              "ticks": ""
             }
            },
            "type": "scattercarpet"
           }
          ],
          "scattergeo": [
           {
            "marker": {
             "colorbar": {
              "outlinewidth": 0,
              "ticks": ""
             }
            },
            "type": "scattergeo"
           }
          ],
          "scattergl": [
           {
            "marker": {
             "colorbar": {
              "outlinewidth": 0,
              "ticks": ""
             }
            },
            "type": "scattergl"
           }
          ],
          "scattermap": [
           {
            "marker": {
             "colorbar": {
              "outlinewidth": 0,
              "ticks": ""
             }
            },
            "type": "scattermap"
           }
          ],
          "scattermapbox": [
           {
            "marker": {
             "colorbar": {
              "outlinewidth": 0,
              "ticks": ""
             }
            },
            "type": "scattermapbox"
           }
          ],
          "scatterpolar": [
           {
            "marker": {
             "colorbar": {
              "outlinewidth": 0,
              "ticks": ""
             }
            },
            "type": "scatterpolar"
           }
          ],
          "scatterpolargl": [
           {
            "marker": {
             "colorbar": {
              "outlinewidth": 0,
              "ticks": ""
             }
            },
            "type": "scatterpolargl"
           }
          ],
          "scatterternary": [
           {
            "marker": {
             "colorbar": {
              "outlinewidth": 0,
              "ticks": ""
             }
            },
            "type": "scatterternary"
           }
          ],
          "surface": [
           {
            "colorbar": {
             "outlinewidth": 0,
             "ticks": ""
            },
            "colorscale": [
             [
              0,
              "#0d0887"
             ],
             [
              0.1111111111111111,
              "#46039f"
             ],
             [
              0.2222222222222222,
              "#7201a8"
             ],
             [
              0.3333333333333333,
              "#9c179e"
             ],
             [
              0.4444444444444444,
              "#bd3786"
             ],
             [
              0.5555555555555556,
              "#d8576b"
             ],
             [
              0.6666666666666666,
              "#ed7953"
             ],
             [
              0.7777777777777778,
              "#fb9f3a"
             ],
             [
              0.8888888888888888,
              "#fdca26"
             ],
             [
              1,
              "#f0f921"
             ]
            ],
            "type": "surface"
           }
          ],
          "table": [
           {
            "cells": {
             "fill": {
              "color": "#EBF0F8"
             },
             "line": {
              "color": "white"
             }
            },
            "header": {
             "fill": {
              "color": "#C8D4E3"
             },
             "line": {
              "color": "white"
             }
            },
            "type": "table"
           }
          ]
         },
         "layout": {
          "annotationdefaults": {
           "arrowcolor": "#2a3f5f",
           "arrowhead": 0,
           "arrowwidth": 1
          },
          "autotypenumbers": "strict",
          "coloraxis": {
           "colorbar": {
            "outlinewidth": 0,
            "ticks": ""
           }
          },
          "colorscale": {
           "diverging": [
            [
             0,
             "#8e0152"
            ],
            [
             0.1,
             "#c51b7d"
            ],
            [
             0.2,
             "#de77ae"
            ],
            [
             0.3,
             "#f1b6da"
            ],
            [
             0.4,
             "#fde0ef"
            ],
            [
             0.5,
             "#f7f7f7"
            ],
            [
             0.6,
             "#e6f5d0"
            ],
            [
             0.7,
             "#b8e186"
            ],
            [
             0.8,
             "#7fbc41"
            ],
            [
             0.9,
             "#4d9221"
            ],
            [
             1,
             "#276419"
            ]
           ],
           "sequential": [
            [
             0,
             "#0d0887"
            ],
            [
             0.1111111111111111,
             "#46039f"
            ],
            [
             0.2222222222222222,
             "#7201a8"
            ],
            [
             0.3333333333333333,
             "#9c179e"
            ],
            [
             0.4444444444444444,
             "#bd3786"
            ],
            [
             0.5555555555555556,
             "#d8576b"
            ],
            [
             0.6666666666666666,
             "#ed7953"
            ],
            [
             0.7777777777777778,
             "#fb9f3a"
            ],
            [
             0.8888888888888888,
             "#fdca26"
            ],
            [
             1,
             "#f0f921"
            ]
           ],
           "sequentialminus": [
            [
             0,
             "#0d0887"
            ],
            [
             0.1111111111111111,
             "#46039f"
            ],
            [
             0.2222222222222222,
             "#7201a8"
            ],
            [
             0.3333333333333333,
             "#9c179e"
            ],
            [
             0.4444444444444444,
             "#bd3786"
            ],
            [
             0.5555555555555556,
             "#d8576b"
            ],
            [
             0.6666666666666666,
             "#ed7953"
            ],
            [
             0.7777777777777778,
             "#fb9f3a"
            ],
            [
             0.8888888888888888,
             "#fdca26"
            ],
            [
             1,
             "#f0f921"
            ]
           ]
          },
          "colorway": [
           "#636efa",
           "#EF553B",
           "#00cc96",
           "#ab63fa",
           "#FFA15A",
           "#19d3f3",
           "#FF6692",
           "#B6E880",
           "#FF97FF",
           "#FECB52"
          ],
          "font": {
           "color": "#2a3f5f"
          },
          "geo": {
           "bgcolor": "white",
           "lakecolor": "white",
           "landcolor": "#E5ECF6",
           "showlakes": true,
           "showland": true,
           "subunitcolor": "white"
          },
          "hoverlabel": {
           "align": "left"
          },
          "hovermode": "closest",
          "mapbox": {
           "style": "light"
          },
          "paper_bgcolor": "white",
          "plot_bgcolor": "#E5ECF6",
          "polar": {
           "angularaxis": {
            "gridcolor": "white",
            "linecolor": "white",
            "ticks": ""
           },
           "bgcolor": "#E5ECF6",
           "radialaxis": {
            "gridcolor": "white",
            "linecolor": "white",
            "ticks": ""
           }
          },
          "scene": {
           "xaxis": {
            "backgroundcolor": "#E5ECF6",
            "gridcolor": "white",
            "gridwidth": 2,
            "linecolor": "white",
            "showbackground": true,
            "ticks": "",
            "zerolinecolor": "white"
           },
           "yaxis": {
            "backgroundcolor": "#E5ECF6",
            "gridcolor": "white",
            "gridwidth": 2,
            "linecolor": "white",
            "showbackground": true,
            "ticks": "",
            "zerolinecolor": "white"
           },
           "zaxis": {
            "backgroundcolor": "#E5ECF6",
            "gridcolor": "white",
            "gridwidth": 2,
            "linecolor": "white",
            "showbackground": true,
            "ticks": "",
            "zerolinecolor": "white"
           }
          },
          "shapedefaults": {
           "line": {
            "color": "#2a3f5f"
           }
          },
          "ternary": {
           "aaxis": {
            "gridcolor": "white",
            "linecolor": "white",
            "ticks": ""
           },
           "baxis": {
            "gridcolor": "white",
            "linecolor": "white",
            "ticks": ""
           },
           "bgcolor": "#E5ECF6",
           "caxis": {
            "gridcolor": "white",
            "linecolor": "white",
            "ticks": ""
           }
          },
          "title": {
           "x": 0.05
          },
          "xaxis": {
           "automargin": true,
           "gridcolor": "white",
           "linecolor": "white",
           "ticks": "",
           "title": {
            "standoff": 15
           },
           "zerolinecolor": "white",
           "zerolinewidth": 2
          },
          "yaxis": {
           "automargin": true,
           "gridcolor": "white",
           "linecolor": "white",
           "ticks": "",
           "title": {
            "standoff": 15
           },
           "zerolinecolor": "white",
           "zerolinewidth": 2
          }
         }
        },
        "title": {
         "text": "Status Número de respostas"
        },
        "xaxis": {
         "anchor": "y",
         "autorange": true,
         "domain": [
          0,
          1
         ],
         "range": [
          -0.5,
          1.5
         ],
         "title": {
          "text": "tata"
         },
         "type": "category"
        },
        "yaxis": {
         "anchor": "x",
         "autorange": true,
         "domain": [
          0,
          1
         ],
         "range": [
          0,
          122.10526315789474
         ],
         "title": {
          "text": "CCCCC"
         },
         "type": "linear"
        }
       }
      },
      "image/png": "[encoded data removed]"
     },
     "metadata": {},
     "output_type": "display_data"
    },
    {
     "ename": "NameError",
     "evalue": "name 'plotly__bar' is not defined",
     "output_type": "error",
     "traceback": [
      "\u001b[0;31m---------------------------------------------------------------------------\u001b[0m",
      "\u001b[0;31mNameError\u001b[0m                                 Traceback (most recent call last)",
      "Cell \u001b[0;32mIn[42], line 11\u001b[0m\n\u001b[1;32m      3\u001b[0m fig \u001b[38;5;241m=\u001b[39m px\u001b[38;5;241m.\u001b[39mbar(\n\u001b[1;32m      4\u001b[0m          prepDf, \n\u001b[1;32m      5\u001b[0m          x \u001b[38;5;241m=\u001b[39m \u001b[38;5;124m'\u001b[39m\u001b[38;5;124mEstatus\u001b[39m\u001b[38;5;124m'\u001b[39m, \n\u001b[1;32m      6\u001b[0m          y \u001b[38;5;241m=\u001b[39m \u001b[38;5;124m'\u001b[39m\u001b[38;5;124mn\u001b[39m\u001b[38;5;124m'\u001b[39m,\n\u001b[1;32m      7\u001b[0m          title\u001b[38;5;241m=\u001b[39m\u001b[38;5;124m'\u001b[39m\u001b[38;5;124mStatus Número de respostas\u001b[39m\u001b[38;5;124m'\u001b[39m,\n\u001b[1;32m      8\u001b[0m          labels\u001b[38;5;241m=\u001b[39m{\u001b[38;5;124m'\u001b[39m\u001b[38;5;124mEstatus\u001b[39m\u001b[38;5;124m'\u001b[39m: \u001b[38;5;124m'\u001b[39m\u001b[38;5;124mtata\u001b[39m\u001b[38;5;124m'\u001b[39m, \u001b[38;5;124m'\u001b[39m\u001b[38;5;124mn\u001b[39m\u001b[38;5;124m'\u001b[39m: \u001b[38;5;124m'\u001b[39m\u001b[38;5;124mCCCCC\u001b[39m\u001b[38;5;124m'\u001b[39m})\n\u001b[1;32m      9\u001b[0m fig\u001b[38;5;241m.\u001b[39mshow()\n\u001b[0;32m---> 11\u001b[0m \u001b[43mplotly__bar\u001b[49m(\n\u001b[1;32m     12\u001b[0m     p_df\u001b[38;5;241m=\u001b[39mdf,\n\u001b[1;32m     13\u001b[0m     p_colname\u001b[38;5;241m=\u001b[39m\u001b[38;5;124m\"\u001b[39m\u001b[38;5;124mstatusresposta\u001b[39m\u001b[38;5;124m\"\u001b[39m,\n\u001b[1;32m     14\u001b[0m     p_title\u001b[38;5;241m=\u001b[39m\u001b[38;5;124m\"\u001b[39m\u001b[38;5;124mStatus Número de respostas\u001b[39m\u001b[38;5;124m\"\u001b[39m,    \n\u001b[1;32m     15\u001b[0m     p_valuecounts_labels \u001b[38;5;241m=\u001b[39m [\u001b[38;5;124m\"\u001b[39m\u001b[38;5;124mEstatus\u001b[39m\u001b[38;5;124m\"\u001b[39m,\u001b[38;5;124m\"\u001b[39m\u001b[38;5;124mn\u001b[39m\u001b[38;5;124m\"\u001b[39m],\n\u001b[1;32m     16\u001b[0m     pHtmlExportFilename\u001b[38;5;241m=\u001b[39m\u001b[38;5;124m\"\u001b[39m\u001b[38;5;124mstatusresposta.html\u001b[39m\u001b[38;5;124m\"\u001b[39m)\n",
      "\u001b[0;31mNameError\u001b[0m: name 'plotly__bar' is not defined"
     ]
    }
   ],
   "source": [
    "import plotly.express as px\n",
    "#def plotly_bar(title, dataframe, x_colname, x_label, y_colname, y_label):    \n",
    "fig = px.bar(\n",
    "         prepDf, \n",
    "         x = 'Estatus', \n",
    "         y = 'n',\n",
    "         title='Status Número de respostas',\n",
    "         labels={'Estatus': 'tata', 'n': 'CCCCC'})\n",
    "#fig.show()\n",
    "\n",
    "plotly__bar(\n",
    "    p_df=df,\n",
    "    p_colname=\"statusresposta\",\n",
    "    p_title=\"Status Número de respostas\",    \n",
    "    p_valuecounts_labels = [\"Estatus\",\"n\"],\n",
    "    pHtmlExportFilename=\"statusresposta.html\")"
   ]
  },
  {
   "cell_type": "code",
   "execution_count": null,
   "id": "86e51cd7-befa-4cef-9149-74e6e1e928c1",
   "metadata": {},
   "outputs": [],
   "source": []
  },
  {
   "cell_type": "code",
   "execution_count": null,
   "id": "382e111b-8d57-4a25-b742-eebaa1378d2f",
   "metadata": {},
   "outputs": [],
   "source": []
  }
 ],
 "metadata": {
  "kernelspec": {
   "display_name": "Python 3 (ipykernel)",
   "language": "python",
   "name": "python3"
  },
  "language_info": {
   "codemirror_mode": {
    "name": "ipython",
    "version": 3
   },
   "file_extension": ".py",
   "mimetype": "text/x-python",
   "name": "python",
   "nbconvert_exporter": "python",
   "pygments_lexer": "ipython3",
   "version": "3.11.6"
  }
 },
 "nbformat": 4,
 "nbformat_minor": 5
}
