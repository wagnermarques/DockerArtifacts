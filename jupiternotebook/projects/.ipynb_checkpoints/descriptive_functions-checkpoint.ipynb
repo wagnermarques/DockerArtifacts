{
 "cells": [
  {
   "cell_type": "markdown",
   "id": "450821c3-dd63-443f-8bbf-80ee4bce4aaa",
   "metadata": {},
   "source": [
    "# Define funcoes"
   ]
  },
  {
   "cell_type": "markdown",
   "id": "9f300d9a-ba9c-4c3f-9fe1-66fc46f3713f",
   "metadata": {},
   "source": [
    "## freqTbl function"
   ]
  },
  {
   "cell_type": "code",
   "execution_count": null,
   "id": "f00269d9-568b-402e-95f6-df8e1199f7ea",
   "metadata": {},
   "outputs": [],
   "source": [
    "from tabulate import tabulate\n",
    "\n",
    "# --- Função para exibir tabela de frequência formatada com tabulate ---\n",
    "def freqTblTabulate(dataframe, nome_coluna, titulo_tabela, nome_indice=\"Categoria\"):\n",
    "    # 1. Contagem de frequência\n",
    "    # dropna=False para incluir NaNs (ou NaT para categóricos) se houver;\n",
    "    # sort_index() para ordenar pelas categorias definidas no CategoricalDtype.\n",
    "    frequencia = dataframe[nome_coluna].value_counts(dropna=False).sort_index()\n",
    "\n",
    "    # 2. Cálculo da porcentagem\n",
    "    # normalize=True para porcentagem\n",
    "    porcentagem = dataframe[nome_coluna].value_counts(normalize=True, dropna=False).sort_index() * 100\n",
    "\n",
    "    # 3. Combinar em uma tabela (DataFrame)\n",
    "    tabela_descritiva = pd.DataFrame({\n",
    "        'Frequência': frequencia,\n",
    "        'Porcentagem (%)': porcentagem\n",
    "    })\n",
    "\n",
    "    # Formatando a coluna de porcentagem para melhor visualização\n",
    "    tabela_descritiva['Porcentagem (%)'] = tabela_descritiva['Porcentagem (%)'].round(2).astype(str) + '%'\n",
    "\n",
    "    # Definindo o nome do índice para exibição na tabela do tabulate\n",
    "    tabela_descritiva.index.name = nome_indice\n",
    "\n",
    "    print(f\"\\n{titulo_tabela}\")\n",
    "    # Usando tabulate para formatar a tabela\n",
    "    # 'headers=\"keys\"' usa os nomes das colunas do DataFrame como cabeçalhos da tabela.\n",
    "    # 'tablefmt=\"simple\"' cria uma tabela com estilo minimalista, bom para ABNT.\n",
    "    # 'showindex=\"always\"' garante que o índice (categorias) seja exibido.\n",
    "    # 'stralign' e 'numalign' podem ser usados para alinhar colunas de texto e números.\n",
    "    # Como 'Porcentagem (%)' se tornou string, 'stralign' se aplicará a ela.\n",
    "    print(tabulate(tabela_descritiva, headers='keys', tablefmt='simple',\n",
    "                   stralign=\"left\", showindex=\"always\"))\n",
    "    print(\"-\" * 50)"
   ]
  }
 ],
 "metadata": {
  "kernelspec": {
   "display_name": "Python 3 (ipykernel)",
   "language": "python",
   "name": "python3"
  },
  "language_info": {
   "codemirror_mode": {
    "name": "ipython",
    "version": 3
   },
   "file_extension": ".py",
   "mimetype": "text/x-python",
   "name": "python",
   "nbconvert_exporter": "python",
   "pygments_lexer": "ipython3",
   "version": "3.11.6"
  }
 },
 "nbformat": 4,
 "nbformat_minor": 5
}
