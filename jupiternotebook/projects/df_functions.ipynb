{
 "cells": [
  {
   "cell_type": "markdown",
   "id": "1dbeb6b4-4a3e-46f6-8e41-bd271f85b5a0",
   "metadata": {},
   "source": [
    "\n"
   ]
  },
  {
   "cell_type": "code",
   "execution_count": 3,
   "id": "49d88199-87a1-4222-8b68-852bcba89f08",
   "metadata": {},
   "outputs": [],
   "source": [
    "import pandas as pd\n",
    "\n",
    "def df_cols_rename(df, list_nomes_antigos, list_nome_novos):\n",
    "    # Verificar se o número de colunas antigas e novas é o mesmo\n",
    "    if len(nomes_antigos) != len(nomes_novos):\n",
    "        print(f\"Atenção: O número de nomes antigos, ({len(nomes_antigos)}),  é diferente do número de nomes novos ({len(nomes_novos)}).\")\n",
    "        print(\"Por favor, verifique as listas.\")\n",
    "    else:\n",
    "        dicionario_renomear = dict(zip(nomes_antigos, nomes_novos))\n",
    "    df.rename(columns=dicionario_renomear, inplace=True)\n",
    "    df.columns"
   ]
  }
 ],
 "metadata": {
  "kernelspec": {
   "display_name": "Python 3 (ipykernel)",
   "language": "python",
   "name": "python3"
  },
  "language_info": {
   "codemirror_mode": {
    "name": "ipython",
    "version": 3
   },
   "file_extension": ".py",
   "mimetype": "text/x-python",
   "name": "python",
   "nbconvert_exporter": "python",
   "pygments_lexer": "ipython3",
   "version": "3.11.6"
  }
 },
 "nbformat": 4,
 "nbformat_minor": 5
}
